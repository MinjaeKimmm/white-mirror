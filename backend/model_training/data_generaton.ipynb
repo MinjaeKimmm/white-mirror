{
 "cells": [
  {
   "cell_type": "code",
   "execution_count": null,
   "id": "9e6cc8f0",
   "metadata": {},
   "outputs": [],
   "source": [
    "import pandas as pd\n",
    "import openai\n",
    "import random\n",
    "import time\n",
    "\n",
    "# Load original data\n",
    "df = pd.read_csv(\"mentalmanip_detailed.csv\")\n",
    "\n",
    "# Target total\n",
    "TARGET = 10000\n",
    "CURRENT = len(df)\n",
    "NEEDED = TARGET - CURRENT\n",
    "\n",
    "# OpenAI API key setup\n",
    "openai.api_key = \"sk-...\"  # 🔐 Replace with your key or load from env\n",
    "\n",
    "# Function to call OpenAI to generate synthetic text\n",
    "def generate_llm_text(prompt, model=\"gpt-3.5-turbo\"):\n",
    "    try:\n",
    "        response = openai.ChatCompletion.create(\n",
    "            model=model,\n",
    "            messages=[\n",
    "                {\"role\": \"system\", \"content\": \"You are a helpful assistant that paraphrases text.\"},\n",
    "                {\"role\": \"user\", \"content\": prompt}\n",
    "            ],\n",
    "            temperature=0.8,\n",
    "            max_tokens=150\n",
    "        )\n",
    "        return response.choices[0].message[\"content\"].strip()\n",
    "    except Exception as e:\n",
    "        print(f\"Error: {e}\")\n",
    "        return None\n",
    "\n",
    "# Sample and augment\n",
    "augmented_rows = []\n",
    "\n",
    "for _ in range(NEEDED):\n",
    "    row = df.sample(1).iloc[0].copy()\n",
    "    \n",
    "    if 'text' in df.columns:\n",
    "        original = row['text']\n",
    "        prompt = f\"Paraphrase the following sentence while preserving its meaning:\\n\\\"{original}\\\"\"\n",
    "        new_text = generate_llm_text(prompt)\n",
    "        row['text'] = new_text if new_text else original\n",
    "    \n",
    "    augmented_rows.append(row)\n",
    "    time.sleep(1)  # to avoid hitting rate limits (adjust as needed)\n",
    "\n",
    "# Combine original + synthetic\n",
    "aug_df = pd.DataFrame(augmented_rows)\n",
    "full_df = pd.concat([df, aug_df], ignore_index=True).sample(frac=1).reset_index(drop=True)\n",
    "\n",
    "# Save to file\n",
    "full_df.to_csv(\"mentalmanip_10000_llm.csv\", index=False)\n"
   ]
  },
  {
   "cell_type": "code",
   "execution_count": null,
   "id": "c383a238",
   "metadata": {},
   "outputs": [],
   "source": []
  }
 ],
 "metadata": {
  "kernelspec": {
   "display_name": "Python 3",
   "language": "python",
   "name": "python3"
  },
  "language_info": {
   "codemirror_mode": {
    "name": "ipython",
    "version": 3
   },
   "file_extension": ".py",
   "mimetype": "text/x-python",
   "name": "python",
   "nbconvert_exporter": "python",
   "pygments_lexer": "ipython3",
   "version": "3.13.1"
  }
 },
 "nbformat": 4,
 "nbformat_minor": 5
}
